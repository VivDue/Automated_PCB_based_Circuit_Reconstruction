{
 "cells": [
  {
   "cell_type": "code",
   "execution_count": 1,
   "metadata": {},
   "outputs": [
    {
     "ename": "error",
     "evalue": "OpenCV(4.9.0) D:\\a\\opencv-python\\opencv-python\\opencv\\modules\\imgproc\\src\\median_blur.dispatch.cpp:283: error: (-215:Assertion failed) !_src0.empty() in function 'cv::medianBlur'\n",
     "output_type": "error",
     "traceback": [
      "\u001b[1;31m---------------------------------------------------------------------------\u001b[0m",
      "\u001b[1;31merror\u001b[0m                                     Traceback (most recent call last)",
      "Cell \u001b[1;32mIn[1], line 8\u001b[0m\n\u001b[0;32m      5\u001b[0m path \u001b[38;5;241m=\u001b[39m \u001b[38;5;124m'\u001b[39m\u001b[38;5;124mdcc_encoder_top_black_back.png\u001b[39m\u001b[38;5;124m'\u001b[39m\n\u001b[0;32m      7\u001b[0m img \u001b[38;5;241m=\u001b[39m cv\u001b[38;5;241m.\u001b[39mimread(path, cv\u001b[38;5;241m.\u001b[39mIMREAD_GRAYSCALE)\n\u001b[1;32m----> 8\u001b[0m filter_img \u001b[38;5;241m=\u001b[39m \u001b[43mcv\u001b[49m\u001b[38;5;241;43m.\u001b[39;49m\u001b[43mmedianBlur\u001b[49m\u001b[43m(\u001b[49m\u001b[43mimg\u001b[49m\u001b[43m,\u001b[49m\u001b[43m \u001b[49m\u001b[38;5;241;43m3\u001b[39;49m\u001b[43m)\u001b[49m\n\u001b[0;32m      9\u001b[0m \u001b[38;5;66;03m#Z = filter_img.reshape((-1,3))\u001b[39;00m\n\u001b[0;32m     11\u001b[0m plt\u001b[38;5;241m.\u001b[39mimshow(img, \u001b[38;5;124m'\u001b[39m\u001b[38;5;124mgrey\u001b[39m\u001b[38;5;124m'\u001b[39m)\n",
      "\u001b[1;31merror\u001b[0m: OpenCV(4.9.0) D:\\a\\opencv-python\\opencv-python\\opencv\\modules\\imgproc\\src\\median_blur.dispatch.cpp:283: error: (-215:Assertion failed) !_src0.empty() in function 'cv::medianBlur'\n"
     ]
    }
   ],
   "source": [
    "import numpy as np\n",
    "import cv2 as cv\n",
    "import matplotlib.pyplot as plt\n",
    " \n",
    "path = 'dcc_encoder_top_black_back.png'\n",
    "\n",
    "img = cv.imread(path, cv.IMREAD_GRAYSCALE)\n",
    "filter_img = cv.medianBlur(img, 3)\n",
    "#Z = filter_img.reshape((-1,3))\n",
    "\n",
    "plt.imshow(img, 'grey')\n",
    "plt.axis('off')\n",
    "plt.show()\n",
    "\n",
    "thresh = cv.adaptiveThreshold(filter_img, 255, cv.ADAPTIVE_THRESH_GAUSSIAN_C, cv.THRESH_BINARY, 11, 2)\n",
    "plt.imshow(thresh, 'grey')\n",
    "plt.axis('off')\n",
    "plt.show()\n",
    "\n",
    "_, mask = cv.threshold(filter_img, 0, 255, cv.THRESH_BINARY+cv.THRESH_OTSU)\n",
    "\n",
    "kernel = np.ones((3, 3), np.uint8)\n",
    "mask = cv.dilate(mask, kernel, iterations=1)\n",
    "mask = cv.erode(mask, kernel, iterations=1)\n",
    "plt.imshow(mask, 'grey')\n",
    "plt.axis('off')\n",
    "plt.show()\n",
    "\n",
    "img = cv.cvtColor(cv.imread(path), cv.COLOR_BGR2RGB)\n",
    "inpainted_image = cv.inpaint(img, mask, inpaintRadius=5, flags=cv.INPAINT_NS)\n",
    "plt.imshow(inpainted_image)\n",
    "plt.axis('off')\n",
    "plt.show()\n",
    "\n",
    "edges = cv.Canny(img, 20 , 180)\n",
    "plt.imshow(edges, 'grey')\n",
    "plt.axis('off')\n",
    "plt.show()\n",
    "\n",
    "\"\"\"# convert to np.float32\n",
    "Z = np.float32(Z)\n",
    " \n",
    "# define criteria, number of clusters(K) and apply kmeans()\n",
    "criteria = (cv.TERM_CRITERIA_EPS + cv.TERM_CRITERIA_MAX_ITER, 10, 1.0)\n",
    "K = 16\n",
    "ret,label,center=cv.kmeans(Z,K,None,criteria,10,cv.KMEANS_RANDOM_CENTERS)\n",
    " \n",
    "# Now convert back into uint8, and make original image\n",
    "center = np.uint8(center)\n",
    "res = center[label.flatten()]\n",
    "res2 = res.reshape((filter_img.shape))\n",
    "plt.imshow(cv.cvtColor(res2, cv.COLOR_BGR2RGB))\n",
    "plt.axis('off')\n",
    "plt.show()\"\"\"\n",
    "\n"
   ]
  }
 ],
 "metadata": {
  "kernelspec": {
   "display_name": "cv",
   "language": "python",
   "name": "python3"
  },
  "language_info": {
   "codemirror_mode": {
    "name": "ipython",
    "version": 3
   },
   "file_extension": ".py",
   "mimetype": "text/x-python",
   "name": "python",
   "nbconvert_exporter": "python",
   "pygments_lexer": "ipython3",
   "version": "3.12.2"
  }
 },
 "nbformat": 4,
 "nbformat_minor": 2
}
