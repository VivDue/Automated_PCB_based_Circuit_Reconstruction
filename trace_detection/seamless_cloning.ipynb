{
 "cells": [
  {
   "cell_type": "code",
   "execution_count": 24,
   "metadata": {},
   "outputs": [
    {
     "ename": "ValueError",
     "evalue": "The mask dimensions do not match the object dimensions.",
     "output_type": "error",
     "traceback": [
      "\u001b[1;31m---------------------------------------------------------------------------\u001b[0m",
      "\u001b[1;31mValueError\u001b[0m                                Traceback (most recent call last)",
      "Cell \u001b[1;32mIn[24], line 23\u001b[0m\n\u001b[0;32m     21\u001b[0m \u001b[38;5;66;03m# Verify the mask has the same width and height as the object\u001b[39;00m\n\u001b[0;32m     22\u001b[0m \u001b[38;5;28;01mif\u001b[39;00m mask\u001b[38;5;241m.\u001b[39mshape[:\u001b[38;5;241m2\u001b[39m] \u001b[38;5;241m!=\u001b[39m obj\u001b[38;5;241m.\u001b[39mshape[:\u001b[38;5;241m2\u001b[39m]:\n\u001b[1;32m---> 23\u001b[0m     \u001b[38;5;28;01mraise\u001b[39;00m \u001b[38;5;167;01mValueError\u001b[39;00m(\u001b[38;5;124m\"\u001b[39m\u001b[38;5;124mThe mask dimensions do not match the object dimensions.\u001b[39m\u001b[38;5;124m\"\u001b[39m)\n\u001b[0;32m     25\u001b[0m \u001b[38;5;66;03m# Determine center of the object\u001b[39;00m\n\u001b[0;32m     26\u001b[0m height, width \u001b[38;5;241m=\u001b[39m im\u001b[38;5;241m.\u001b[39mshape[:\u001b[38;5;241m2\u001b[39m]\n",
      "\u001b[1;31mValueError\u001b[0m: The mask dimensions do not match the object dimensions."
     ]
    }
   ],
   "source": [
    "import cv2\n",
    "import numpy as np\n",
    "\n",
    "# Load images\n",
    "im = cv2.imread('dcc_encoder_top_black_back.png')\n",
    "#im = cv2.imread('wood-texture.jpg')\n",
    "obj = cv2.imread('iloveyouticket.jpg')\n",
    "obj = np.zeros(im.shape, np.uint8) + 128\n",
    "\n",
    "# Check if images are loaded correctly\n",
    "if im is None:\n",
    "    raise ValueError(\"Error loading background image.\")\n",
    "if obj is None:\n",
    "    raise ValueError(\"Error loading object image.\")\n",
    "\n",
    "# Create a rough mask around the object (white on black background)\n",
    "#mask = np.zeros(obj.shape[:2], np.uint8)\n",
    "#mask[0:50] = 255\n",
    "mask = cv2.imread('mask.png', cv2.IMREAD_GRAYSCALE)\n",
    "\n",
    "# Verify the mask has the same width and height as the object\n",
    "if mask.shape[:2] != obj.shape[:2]:\n",
    "    raise ValueError(\"The mask dimensions do not match the object dimensions.\")\n",
    "\n",
    "# Determine center of the object\n",
    "height, width = im.shape[:2]\n",
    "center = (width // 2, height // 2)  # Use integer division to ensure integers\n",
    "\n",
    "# Ensure the object is smaller than the background image\n",
    "if obj.shape[0] > height or obj.shape[1] > width:\n",
    "    raise ValueError(\"The object image is larger than the background image.\")\n",
    "\n",
    "# Seamlessly clone src into dst and put the results in output\n",
    "try:\n",
    "    normal_clone = cv2.seamlessClone(obj, im, mask, center, cv2.NORMAL_CLONE)\n",
    "    mixed_clone = cv2.seamlessClone(obj, im, mask, center, cv2.MIXED_CLONE)\n",
    "except cv2.error as e:\n",
    "    print(f\"Error during seamlessClone: {e}\")\n",
    "    raise\n",
    "\n",
    "# Write results\n",
    "cv2.imwrite('normal_clone.jpg', normal_clone)\n",
    "cv2.imwrite('mixed_clone.jpg', mixed_clone)\n",
    "\n",
    "plt.imshow(cv2.cvtColor(im, cv2.COLOR_BGR2RGB))\n",
    "plt.show()\n",
    "plt.imshow(cv2.cvtColor(obj, cv2.COLOR_BGR2RGB))\n",
    "plt.show()\n",
    "plt.imshow(cv2.cvtColor(mask, cv2.COLOR_BGR2RGB))\n",
    "plt.show()\n",
    "plt.imshow(cv2.cvtColor(normal_clone, cv2.COLOR_BGR2RGB))\n",
    "plt.show()\n",
    "plt.imshow(cv2.cvtColor(mixed_clone, cv2.COLOR_BGR2RGB))\n",
    "plt.show()\n",
    "\n",
    "print(\"Cloning completed successfully and images saved.\")\n"
   ]
  }
 ],
 "metadata": {
  "kernelspec": {
   "display_name": "cv",
   "language": "python",
   "name": "python3"
  },
  "language_info": {
   "codemirror_mode": {
    "name": "ipython",
    "version": 3
   },
   "file_extension": ".py",
   "mimetype": "text/x-python",
   "name": "python",
   "nbconvert_exporter": "python",
   "pygments_lexer": "ipython3",
   "version": "3.12.2"
  }
 },
 "nbformat": 4,
 "nbformat_minor": 2
}
