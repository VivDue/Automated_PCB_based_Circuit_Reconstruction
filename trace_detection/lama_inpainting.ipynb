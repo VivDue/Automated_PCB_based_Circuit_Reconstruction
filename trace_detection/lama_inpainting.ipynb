{
 "cells": [
  {
   "cell_type": "code",
   "execution_count": 2,
   "metadata": {},
   "outputs": [
    {
     "data": {
      "text/plain": [
       "True"
      ]
     },
     "execution_count": 2,
     "metadata": {},
     "output_type": "execute_result"
    }
   ],
   "source": [
    "from simple_lama_inpainting import SimpleLama\n",
    "from PIL import Image\n",
    "import cv2\n",
    "import numpy as np\n",
    "#import matplotlib.pyplot as plt\n",
    "\n",
    "simple_lama = SimpleLama()\n",
    "\n",
    "img_path = \"dcc_encoder_top_black_back_1lam.png\"\n",
    "mask_path = \"mask.png\"\n",
    "\n",
    "image = Image.open(img_path)\n",
    "mask = Image.open(mask_path).convert('L')\n",
    "\n",
    "image = cv2.imread(img_path,cv2.IMREAD_COLOR)\n",
    "mask = cv2.imread(mask_path,cv2.IMREAD_GRAYSCALE)\n",
    "\n",
    "\n",
    "result = simple_lama(image, mask)\n",
    "result = np.array(result)\n",
    "#result = cv2.cvtColor(np.array(result), cv2.COLOR_BGR2RGB)\n",
    "cv2.imwrite(\"inpainted.png\", result)\n",
    "#result.save(\"inpainted.png\")\n",
    "#plt.imshow(cv2.cvtColor(result, cv2.COLOR_BGR2RGB))"
   ]
  }
 ],
 "metadata": {
  "kernelspec": {
   "display_name": ".venv",
   "language": "python",
   "name": "python3"
  },
  "language_info": {
   "codemirror_mode": {
    "name": "ipython",
    "version": 3
   },
   "file_extension": ".py",
   "mimetype": "text/x-python",
   "name": "python",
   "nbconvert_exporter": "python",
   "pygments_lexer": "ipython3",
   "version": "3.12.4"
  }
 },
 "nbformat": 4,
 "nbformat_minor": 2
}
