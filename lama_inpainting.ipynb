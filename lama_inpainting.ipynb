{
 "cells": [
  {
   "cell_type": "code",
   "execution_count": 2,
   "metadata": {},
   "outputs": [
    {
     "ename": "RuntimeError",
     "evalue": "The following operation failed in the TorchScript interpreter.\nTraceback of TorchScript, serialized code (most recent call last):\n  File \"code/__torch__.py\", line 11, in forward\n    mask: Tensor) -> Tensor:\n    model = self.model\n    return (model).forward(mask, image, )\n            ~~~~~~~~~~~~~~ <--- HERE\n  File \"code/__torch__/saicinpainting/training/trainers/default.py\", line 11, in forward\n    image: Tensor) -> Tensor:\n    generator = self.generator\n    masked_img = torch.mul(image, torch.rsub(mask, 1))\n                 ~~~~~~~~~ <--- HERE\n    input = torch.cat([masked_img, mask], 1)\n    _0 = torch.mul(mask, (generator).forward(input, ))\n\nTraceback of TorchScript, original code (most recent call last):\n/home/enesmsahin/enes_workspace/lama/saicinpainting/training/trainers/default.py(59): forward\n/home/enesmsahin/.conda/envs/sdiff/lib/python3.9/site-packages/torch/nn/modules/module.py(1178): _slow_forward\n/home/enesmsahin/.conda/envs/sdiff/lib/python3.9/site-packages/torch/nn/modules/module.py(1190): _call_impl\n/home/enesmsahin/enes_workspace/lama/bin/to_jit.py(24): forward\n/home/enesmsahin/.conda/envs/sdiff/lib/python3.9/site-packages/torch/nn/modules/module.py(1178): _slow_forward\n/home/enesmsahin/.conda/envs/sdiff/lib/python3.9/site-packages/torch/nn/modules/module.py(1190): _call_impl\n/home/enesmsahin/.conda/envs/sdiff/lib/python3.9/site-packages/torch/jit/_trace.py(976): trace_module\n/home/enesmsahin/.conda/envs/sdiff/lib/python3.9/site-packages/torch/jit/_trace.py(759): trace\n/home/enesmsahin/enes_workspace/lama/bin/to_jit.py(60): main\n/home/enesmsahin/.conda/envs/sdiff/lib/python3.9/site-packages/hydra/core/utils.py(160): run_job\n/home/enesmsahin/.conda/envs/sdiff/lib/python3.9/site-packages/hydra/_internal/hydra.py(97): run\n/home/enesmsahin/.conda/envs/sdiff/lib/python3.9/site-packages/hydra/_internal/utils.py(368): <lambda>\n/home/enesmsahin/.conda/envs/sdiff/lib/python3.9/site-packages/hydra/_internal/utils.py(211): run_and_report\n/home/enesmsahin/.conda/envs/sdiff/lib/python3.9/site-packages/hydra/_internal/utils.py(367): _run_hydra\n/home/enesmsahin/.conda/envs/sdiff/lib/python3.9/site-packages/hydra/main.py(49): decorated_main\n/home/enesmsahin/enes_workspace/lama/bin/to_jit.py(78): <module>\nRuntimeError: The size of tensor a (1368) must match the size of tensor b (1160) at non-singleton dimension 3\n",
     "output_type": "error",
     "traceback": [
      "\u001b[1;31m---------------------------------------------------------------------------\u001b[0m",
      "\u001b[1;31mRuntimeError\u001b[0m                              Traceback (most recent call last)",
      "Cell \u001b[1;32mIn[2], line 19\u001b[0m\n\u001b[0;32m     15\u001b[0m image \u001b[38;5;241m=\u001b[39m cv2\u001b[38;5;241m.\u001b[39mimread(img_path,cv2\u001b[38;5;241m.\u001b[39mIMREAD_COLOR)\n\u001b[0;32m     16\u001b[0m mask \u001b[38;5;241m=\u001b[39m cv2\u001b[38;5;241m.\u001b[39mimread(mask_path,cv2\u001b[38;5;241m.\u001b[39mIMREAD_GRAYSCALE)\n\u001b[1;32m---> 19\u001b[0m result \u001b[38;5;241m=\u001b[39m \u001b[43msimple_lama\u001b[49m\u001b[43m(\u001b[49m\u001b[43mimage\u001b[49m\u001b[43m,\u001b[49m\u001b[43m \u001b[49m\u001b[43mmask\u001b[49m\u001b[43m)\u001b[49m\n\u001b[0;32m     20\u001b[0m result \u001b[38;5;241m=\u001b[39m np\u001b[38;5;241m.\u001b[39marray(result)\n\u001b[0;32m     21\u001b[0m \u001b[38;5;66;03m#result = cv2.cvtColor(np.array(result), cv2.COLOR_BGR2RGB)\u001b[39;00m\n",
      "File \u001b[1;32mc:\\Users\\vduec\\Documents\\GitHub\\PCB_ReConstruct\\.venv\\Lib\\site-packages\\simple_lama_inpainting\\models\\model.py:38\u001b[0m, in \u001b[0;36mSimpleLama.__call__\u001b[1;34m(self, image, mask)\u001b[0m\n\u001b[0;32m     35\u001b[0m image, mask \u001b[38;5;241m=\u001b[39m prepare_img_and_mask(image, mask, \u001b[38;5;28mself\u001b[39m\u001b[38;5;241m.\u001b[39mdevice)\n\u001b[0;32m     37\u001b[0m \u001b[38;5;28;01mwith\u001b[39;00m torch\u001b[38;5;241m.\u001b[39minference_mode():\n\u001b[1;32m---> 38\u001b[0m     inpainted \u001b[38;5;241m=\u001b[39m \u001b[38;5;28;43mself\u001b[39;49m\u001b[38;5;241;43m.\u001b[39;49m\u001b[43mmodel\u001b[49m\u001b[43m(\u001b[49m\u001b[43mimage\u001b[49m\u001b[43m,\u001b[49m\u001b[43m \u001b[49m\u001b[43mmask\u001b[49m\u001b[43m)\u001b[49m\n\u001b[0;32m     40\u001b[0m     cur_res \u001b[38;5;241m=\u001b[39m inpainted[\u001b[38;5;241m0\u001b[39m]\u001b[38;5;241m.\u001b[39mpermute(\u001b[38;5;241m1\u001b[39m, \u001b[38;5;241m2\u001b[39m, \u001b[38;5;241m0\u001b[39m)\u001b[38;5;241m.\u001b[39mdetach()\u001b[38;5;241m.\u001b[39mcpu()\u001b[38;5;241m.\u001b[39mnumpy()\n\u001b[0;32m     41\u001b[0m     cur_res \u001b[38;5;241m=\u001b[39m np\u001b[38;5;241m.\u001b[39mclip(cur_res \u001b[38;5;241m*\u001b[39m \u001b[38;5;241m255\u001b[39m, \u001b[38;5;241m0\u001b[39m, \u001b[38;5;241m255\u001b[39m)\u001b[38;5;241m.\u001b[39mastype(np\u001b[38;5;241m.\u001b[39muint8)\n",
      "File \u001b[1;32mc:\\Users\\vduec\\Documents\\GitHub\\PCB_ReConstruct\\.venv\\Lib\\site-packages\\torch\\nn\\modules\\module.py:1532\u001b[0m, in \u001b[0;36mModule._wrapped_call_impl\u001b[1;34m(self, *args, **kwargs)\u001b[0m\n\u001b[0;32m   1530\u001b[0m     \u001b[38;5;28;01mreturn\u001b[39;00m \u001b[38;5;28mself\u001b[39m\u001b[38;5;241m.\u001b[39m_compiled_call_impl(\u001b[38;5;241m*\u001b[39margs, \u001b[38;5;241m*\u001b[39m\u001b[38;5;241m*\u001b[39mkwargs)  \u001b[38;5;66;03m# type: ignore[misc]\u001b[39;00m\n\u001b[0;32m   1531\u001b[0m \u001b[38;5;28;01melse\u001b[39;00m:\n\u001b[1;32m-> 1532\u001b[0m     \u001b[38;5;28;01mreturn\u001b[39;00m \u001b[38;5;28;43mself\u001b[39;49m\u001b[38;5;241;43m.\u001b[39;49m\u001b[43m_call_impl\u001b[49m\u001b[43m(\u001b[49m\u001b[38;5;241;43m*\u001b[39;49m\u001b[43margs\u001b[49m\u001b[43m,\u001b[49m\u001b[43m \u001b[49m\u001b[38;5;241;43m*\u001b[39;49m\u001b[38;5;241;43m*\u001b[39;49m\u001b[43mkwargs\u001b[49m\u001b[43m)\u001b[49m\n",
      "File \u001b[1;32mc:\\Users\\vduec\\Documents\\GitHub\\PCB_ReConstruct\\.venv\\Lib\\site-packages\\torch\\nn\\modules\\module.py:1541\u001b[0m, in \u001b[0;36mModule._call_impl\u001b[1;34m(self, *args, **kwargs)\u001b[0m\n\u001b[0;32m   1536\u001b[0m \u001b[38;5;66;03m# If we don't have any hooks, we want to skip the rest of the logic in\u001b[39;00m\n\u001b[0;32m   1537\u001b[0m \u001b[38;5;66;03m# this function, and just call forward.\u001b[39;00m\n\u001b[0;32m   1538\u001b[0m \u001b[38;5;28;01mif\u001b[39;00m \u001b[38;5;129;01mnot\u001b[39;00m (\u001b[38;5;28mself\u001b[39m\u001b[38;5;241m.\u001b[39m_backward_hooks \u001b[38;5;129;01mor\u001b[39;00m \u001b[38;5;28mself\u001b[39m\u001b[38;5;241m.\u001b[39m_backward_pre_hooks \u001b[38;5;129;01mor\u001b[39;00m \u001b[38;5;28mself\u001b[39m\u001b[38;5;241m.\u001b[39m_forward_hooks \u001b[38;5;129;01mor\u001b[39;00m \u001b[38;5;28mself\u001b[39m\u001b[38;5;241m.\u001b[39m_forward_pre_hooks\n\u001b[0;32m   1539\u001b[0m         \u001b[38;5;129;01mor\u001b[39;00m _global_backward_pre_hooks \u001b[38;5;129;01mor\u001b[39;00m _global_backward_hooks\n\u001b[0;32m   1540\u001b[0m         \u001b[38;5;129;01mor\u001b[39;00m _global_forward_hooks \u001b[38;5;129;01mor\u001b[39;00m _global_forward_pre_hooks):\n\u001b[1;32m-> 1541\u001b[0m     \u001b[38;5;28;01mreturn\u001b[39;00m \u001b[43mforward_call\u001b[49m\u001b[43m(\u001b[49m\u001b[38;5;241;43m*\u001b[39;49m\u001b[43margs\u001b[49m\u001b[43m,\u001b[49m\u001b[43m \u001b[49m\u001b[38;5;241;43m*\u001b[39;49m\u001b[38;5;241;43m*\u001b[39;49m\u001b[43mkwargs\u001b[49m\u001b[43m)\u001b[49m\n\u001b[0;32m   1543\u001b[0m \u001b[38;5;28;01mtry\u001b[39;00m:\n\u001b[0;32m   1544\u001b[0m     result \u001b[38;5;241m=\u001b[39m \u001b[38;5;28;01mNone\u001b[39;00m\n",
      "\u001b[1;31mRuntimeError\u001b[0m: The following operation failed in the TorchScript interpreter.\nTraceback of TorchScript, serialized code (most recent call last):\n  File \"code/__torch__.py\", line 11, in forward\n    mask: Tensor) -> Tensor:\n    model = self.model\n    return (model).forward(mask, image, )\n            ~~~~~~~~~~~~~~ <--- HERE\n  File \"code/__torch__/saicinpainting/training/trainers/default.py\", line 11, in forward\n    image: Tensor) -> Tensor:\n    generator = self.generator\n    masked_img = torch.mul(image, torch.rsub(mask, 1))\n                 ~~~~~~~~~ <--- HERE\n    input = torch.cat([masked_img, mask], 1)\n    _0 = torch.mul(mask, (generator).forward(input, ))\n\nTraceback of TorchScript, original code (most recent call last):\n/home/enesmsahin/enes_workspace/lama/saicinpainting/training/trainers/default.py(59): forward\n/home/enesmsahin/.conda/envs/sdiff/lib/python3.9/site-packages/torch/nn/modules/module.py(1178): _slow_forward\n/home/enesmsahin/.conda/envs/sdiff/lib/python3.9/site-packages/torch/nn/modules/module.py(1190): _call_impl\n/home/enesmsahin/enes_workspace/lama/bin/to_jit.py(24): forward\n/home/enesmsahin/.conda/envs/sdiff/lib/python3.9/site-packages/torch/nn/modules/module.py(1178): _slow_forward\n/home/enesmsahin/.conda/envs/sdiff/lib/python3.9/site-packages/torch/nn/modules/module.py(1190): _call_impl\n/home/enesmsahin/.conda/envs/sdiff/lib/python3.9/site-packages/torch/jit/_trace.py(976): trace_module\n/home/enesmsahin/.conda/envs/sdiff/lib/python3.9/site-packages/torch/jit/_trace.py(759): trace\n/home/enesmsahin/enes_workspace/lama/bin/to_jit.py(60): main\n/home/enesmsahin/.conda/envs/sdiff/lib/python3.9/site-packages/hydra/core/utils.py(160): run_job\n/home/enesmsahin/.conda/envs/sdiff/lib/python3.9/site-packages/hydra/_internal/hydra.py(97): run\n/home/enesmsahin/.conda/envs/sdiff/lib/python3.9/site-packages/hydra/_internal/utils.py(368): <lambda>\n/home/enesmsahin/.conda/envs/sdiff/lib/python3.9/site-packages/hydra/_internal/utils.py(211): run_and_report\n/home/enesmsahin/.conda/envs/sdiff/lib/python3.9/site-packages/hydra/_internal/utils.py(367): _run_hydra\n/home/enesmsahin/.conda/envs/sdiff/lib/python3.9/site-packages/hydra/main.py(49): decorated_main\n/home/enesmsahin/enes_workspace/lama/bin/to_jit.py(78): <module>\nRuntimeError: The size of tensor a (1368) must match the size of tensor b (1160) at non-singleton dimension 3\n"
     ]
    }
   ],
   "source": [
    "from simple_lama_inpainting import SimpleLama\n",
    "from PIL import Image\n",
    "import cv2\n",
    "import numpy as np\n",
    "#import matplotlib.pyplot as plt\n",
    "\n",
    "simple_lama = SimpleLama()\n",
    "\n",
    "img_path = \"dcc_encoder_top_black_back_1lam.png\"\n",
    "mask_path = \"mask.png\"\n",
    "\n",
    "image = Image.open(img_path)\n",
    "mask = Image.open(mask_path).convert('L')\n",
    "\n",
    "image = cv2.imread(img_path,cv2.IMREAD_COLOR)\n",
    "mask = cv2.imread(mask_path,cv2.IMREAD_GRAYSCALE)\n",
    "\n",
    "\n",
    "result = simple_lama(image, mask)\n",
    "result = np.array(result)\n",
    "#result = cv2.cvtColor(np.array(result), cv2.COLOR_BGR2RGB)\n",
    "cv2.imwrite(\"inpainted.png\", result)\n",
    "#result.save(\"inpainted.png\")\n",
    "#plt.imshow(cv2.cvtColor(result, cv2.COLOR_BGR2RGB))"
   ]
  }
 ],
 "metadata": {
  "kernelspec": {
   "display_name": ".venv",
   "language": "python",
   "name": "python3"
  },
  "language_info": {
   "codemirror_mode": {
    "name": "ipython",
    "version": 3
   },
   "file_extension": ".py",
   "mimetype": "text/x-python",
   "name": "python",
   "nbconvert_exporter": "python",
   "pygments_lexer": "ipython3",
   "version": "3.12.6"
  }
 },
 "nbformat": 4,
 "nbformat_minor": 2
}
