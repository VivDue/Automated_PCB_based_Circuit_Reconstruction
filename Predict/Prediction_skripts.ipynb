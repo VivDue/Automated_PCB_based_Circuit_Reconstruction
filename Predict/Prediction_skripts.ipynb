{
 "cells": [
  {
   "cell_type": "markdown",
   "metadata": {},
   "source": [
    "# Patch Prediction for Image File"
   ]
  },
  {
   "cell_type": "code",
   "execution_count": 3,
   "metadata": {},
   "outputs": [],
   "source": [
    "from yolo_predict import YoloPredictor\n",
    "\n",
    "# files and directories\n",
    "input_file = \"test\\DSC_0250.jpg\"\n",
    "output_directory = \"Predictions\"\n",
    "yolomodel = \"models/yolov8m_hsi_clahe.pt\"\n",
    "cut_ends = False\n",
    "\n",
    "# create an instance of the DesignatorCopy\n",
    "predictor = YoloPredictor(yolomodel, input_file, output_directory, cut_ends)\n",
    "predictor.predict_file()"
   ]
  },
  {
   "cell_type": "markdown",
   "metadata": {},
   "source": [
    "# Patch Prediction for Image Folder"
   ]
  },
  {
   "cell_type": "code",
   "execution_count": 4,
   "metadata": {},
   "outputs": [
    {
     "name": "stdout",
     "output_type": "stream",
     "text": [
      "test\\1_pcb_1f_cc_4.png\n",
      "test\\1_csm_LNdW2022_4a3234efe9.jpg\n",
      "test\\Circuit-Board-Resistors-1-1024x753.jpg\n",
      "test\\DSC_0249.JPG\n",
      "test\\DSC_0250.JPG\n",
      "test\\DSC_0251.JPG\n",
      "test\\DSC_0252.JPG\n",
      "test\\DSC_0253.JPG\n",
      "test\\DSC_0254.JPG\n",
      "test\\DSC_0255.JPG\n"
     ]
    },
    {
     "name": "stderr",
     "output_type": "stream",
     "text": [
      "100%|██████████| 10/10 [01:00<00:00,  6.05s/it]\n"
     ]
    }
   ],
   "source": [
    "from yolo_predict import YoloPredictor\n",
    "import glob\n",
    "import pathlib\n",
    "from tqdm import tqdm\n",
    "\n",
    "# files and directories\n",
    "input_folder = \"test\"\n",
    "output_directory = \"Predictions\"\n",
    "yolomodel = \"models/yolov8m_hsi_clahe.pt\"\n",
    "cut_ends = False\n",
    "\n",
    "folder = pathlib.Path(input_folder)\n",
    "pngs = glob.glob(input_folder + \"/*.png\")\n",
    "jpgs = glob.glob(input_folder + \"/*.jpg\")\n",
    "\n",
    "files = pngs + jpgs\n",
    "for file in files:\n",
    "    print(file)\n",
    "\n",
    "with tqdm(total=len(files)) as pbar:\n",
    "    for file in files:\n",
    "        file = file.split(\"/\")[-1]\n",
    "        \n",
    "        predictor = YoloPredictor(yolomodel, file, output_directory, cut_ends)\n",
    "        predictor.predict_file()\n",
    "        pbar.update(1)\n"
   ]
  },
  {
   "cell_type": "markdown",
   "metadata": {},
   "source": [
    "# Image Recombiner Test"
   ]
  },
  {
   "cell_type": "code",
   "execution_count": 3,
   "metadata": {},
   "outputs": [
    {
     "name": "stdout",
     "output_type": "stream",
     "text": [
      "Version of Ultralytics\n",
      "8.2.93\n",
      "Version of Torch\n",
      "2.4.1\n"
     ]
    },
    {
     "ename": "AttributeError",
     "evalue": "'YoloPredictor' object has no attribute 'recombine'",
     "output_type": "error",
     "traceback": [
      "\u001b[1;31m---------------------------------------------------------------------------\u001b[0m",
      "\u001b[1;31mAttributeError\u001b[0m                            Traceback (most recent call last)",
      "Cell \u001b[1;32mIn[3], line 11\u001b[0m\n\u001b[0;32m      9\u001b[0m \u001b[38;5;66;03m# create an instance of the DesignatorCopy\u001b[39;00m\n\u001b[0;32m     10\u001b[0m predictor \u001b[38;5;241m=\u001b[39m YoloPredictor(yolomodel, input_file, output_directory, cut_ends)\n\u001b[1;32m---> 11\u001b[0m \u001b[43mpredictor\u001b[49m\u001b[38;5;241;43m.\u001b[39;49m\u001b[43mrecombine\u001b[49m(input_file, \u001b[38;5;241m768\u001b[39m)\n",
      "\u001b[1;31mAttributeError\u001b[0m: 'YoloPredictor' object has no attribute 'recombine'"
     ]
    }
   ],
   "source": [
    "from yolo_predict import YoloPredictor\n",
    "\n",
    "# files and directories\n",
    "input_file = \"test/DSC_0250.jpg\"\n",
    "output_directory = \"Predictions\"\n",
    "yolomodel = \"models/yolov8m_hsi_clahe.pt\"\n",
    "cut_ends = True\n",
    "\n",
    "# create an instance of the DesignatorCopy\n",
    "predictor = YoloPredictor(yolomodel, input_file, output_directory, cut_ends)\n",
    "predictor.recombine(input_file, 768)"
   ]
  }
 ],
 "metadata": {
  "kernelspec": {
   "display_name": ".venv",
   "language": "python",
   "name": "python3"
  },
  "language_info": {
   "codemirror_mode": {
    "name": "ipython",
    "version": 3
   },
   "file_extension": ".py",
   "mimetype": "text/x-python",
   "name": "python",
   "nbconvert_exporter": "python",
   "pygments_lexer": "ipython3",
   "version": "3.10.14"
  }
 },
 "nbformat": 4,
 "nbformat_minor": 2
}
